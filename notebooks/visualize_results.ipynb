{
 "cells": [
  {
   "cell_type": "markdown",
   "id": "311c217b",
   "metadata": {},
   "source": [
    "# Visualize Experiment Results\n",
    "This notebook demonstrates how to use the `ResultHandler` to load experiment results."
   ]
  },
  {
   "cell_type": "code",
   "execution_count": 1,
   "id": "c32204c2",
   "metadata": {},
   "outputs": [
    {
     "name": "stderr",
     "output_type": "stream",
     "text": [
      "2025-07-23 14:44:54,322 - INFO - src.utils.configHandler - Initializing ConfigHandler with paths_yaml_path: configs/paths.yaml\n",
      "2025-07-23 14:44:54,323 - INFO - src.utils.configHandler - Successfully loaded paths configuration from YAML file\n",
      "2025-07-23 14:44:54,326 - INFO - src.utils.resultHandler - Initialized ResultHandler with summary_csv_path: results/summary.csv\n",
      "2025-07-23 14:44:54,326 - INFO - src.utils.resultHandler - Found 325 result folders.\n"
     ]
    },
    {
     "data": {
      "text/plain": [
       "['results/2025-07-23_12-23-40',\n",
       " 'results/2025-07-23_12-23-40',\n",
       " 'results/2025-07-23_12-23-40',\n",
       " 'results/2025-07-23_12-23-40',\n",
       " 'results/2025-07-23_12-23-41']"
      ]
     },
     "execution_count": 1,
     "metadata": {},
     "output_type": "execute_result"
    }
   ],
   "source": [
    "import os\n",
    "from pathlib import Path\n",
    "\n",
    "project_root = Path.cwd().parent\n",
    "if Path.cwd() != project_root:\n",
    "    os.chdir(project_root)\n",
    "\n",
    "from src.utils.resultHandler import ResultHandler\n",
    "import matplotlib.pyplot as plt\n",
    "from src.utils.configHandler import ConfigHandler\n",
    "\n",
    "plt.style.use(os.path.join(os.getcwd(), \"configs\", \"visualisations.mplstyle\"))\n",
    "\n",
    "_config_handler = ConfigHandler()\n",
    "rh = ResultHandler(_config_handler.SUMMARY_FILE)\n",
    "\n",
    "folders = rh.get_result_folders()\n",
    "rh.logger.info(f\"Found {len(folders)} result folders.\")\n",
    "folders[:5]"
   ]
  },
  {
   "cell_type": "code",
   "execution_count": 3,
   "id": "afb97883",
   "metadata": {},
   "outputs": [],
   "source": [
    "import pandas as pd\n",
    "from ipywidgets import interact, FloatSlider, Dropdown, Checkbox, fixed\n",
    "\n",
    "# Filter results for label flipping strategy with random mode\n",
    "subset_results_label_flipping = rh.summary_df[\n",
    "    (rh.summary_df[\"strategy\"] == \"label_flipping\")\n",
    "    & (rh.summary_df[\"strategy_mode\"] == \"random\")\n",
    "]\n",
    "subset_results_label_flipping = subset_results_label_flipping.sort_values(\n",
    "    by=[\"dataset\", \"classifier\", \"strategy\", \"strategy_mode\", \"strategy_params\"]\n",
    ")\n",
    "\n",
    "# Expand the strategy_params column to separate columns\n",
    "subset_results_label_flipping[\"strategy_params\"] = subset_results_label_flipping[\n",
    "    \"strategy_params\"\n",
    "].apply(eval)\n",
    "strategy_params_expanded = subset_results_label_flipping[\"strategy_params\"].apply(\n",
    "    pd.Series\n",
    ")\n",
    "subset_results_label_flipping = pd.concat(\n",
    "    [subset_results_label_flipping, strategy_params_expanded], axis=1\n",
    ")\n",
    "\n",
    "# Create checkboxes for each dataset\n",
    "dataset_names = subset_results_label_flipping[\"dataset\"].unique()\n",
    "dataset_checkboxes = {\n",
    "    name: Checkbox(value=True, description=name) for name in dataset_names\n",
    "}"
   ]
  },
  {
   "cell_type": "code",
   "execution_count": 4,
   "id": "11bf4340",
   "metadata": {},
   "outputs": [
    {
     "data": {
      "application/vnd.jupyter.widget-view+json": {
       "model_id": "91a1fd3e316440e29edbb1b9fea888de",
       "version_major": 2,
       "version_minor": 0
      },
      "text/plain": [
       "interactive(children=(Dropdown(description='Classifier', options=('catch22', 'mini-rocket'), value='catch22'),…"
      ]
     },
     "metadata": {},
     "output_type": "display_data"
    }
   ],
   "source": [
    "def plot_accuracy_vs_flip_ratio(\n",
    "    classifier, prepare_save_plot: bool = False, **datasets_selected\n",
    "):\n",
    "    fig, ax = plt.subplots()\n",
    "    flip_ratios = sorted(subset_results_label_flipping[\"flip_ratio\"].unique())\n",
    "\n",
    "    for dataset in dataset_names:\n",
    "        if not datasets_selected.get(dataset, True):\n",
    "            continue\n",
    "        ds = subset_results_label_flipping[\n",
    "            (subset_results_label_flipping[\"dataset\"] == dataset)\n",
    "            & (subset_results_label_flipping[\"classifier\"] == classifier)\n",
    "        ]\n",
    "        if ds.empty:\n",
    "            continue\n",
    "\n",
    "        means, stds, valid_flip_ratios = [], [], []\n",
    "        for fr in flip_ratios:\n",
    "            fr_ds = ds[ds[\"flip_ratio\"] == fr]\n",
    "            if fr_ds.empty:\n",
    "                continue\n",
    "            grouped = fr_ds.groupby(\"random_seed\")[\"accuracy\"].mean()\n",
    "            means.append(grouped.mean())\n",
    "            stds.append(grouped.std())\n",
    "            valid_flip_ratios.append(fr)\n",
    "\n",
    "        if valid_flip_ratios:\n",
    "            ax.errorbar(\n",
    "                valid_flip_ratios,\n",
    "                means,\n",
    "                yerr=stds,\n",
    "                fmt=\"-o\",\n",
    "                label=dataset,\n",
    "                capsize=4,\n",
    "                markersize=6,\n",
    "            )\n",
    "\n",
    "    ax.set_xlabel(\"Flip Ratio\")\n",
    "    ax.set_ylabel(f\"{classifier} Accuracy\")\n",
    "    ax.set_title(f\"{classifier} Accuracy vs. Flip Ratio\")\n",
    "    ax.set_xlim(min(flip_ratios), max(flip_ratios))\n",
    "    ax.set_ylim(0, 1)\n",
    "    ax.legend()\n",
    "    plt.show()\n",
    "\n",
    "    if prepare_save_plot:\n",
    "        return fig\n",
    "\n",
    "\n",
    "_ = interact(\n",
    "    plot_accuracy_vs_flip_ratio,\n",
    "    classifier=Dropdown(\n",
    "        options=subset_results_label_flipping[\"classifier\"].unique(),\n",
    "        description=\"Classifier\",\n",
    "    ),\n",
    "    prepare_save_plot=fixed(False),\n",
    "    **dataset_checkboxes,\n",
    ")"
   ]
  },
  {
   "cell_type": "code",
   "execution_count": null,
   "id": "342a6c8e",
   "metadata": {},
   "outputs": [
    {
     "data": {
      "application/vnd.jupyter.widget-view+json": {
       "model_id": "73a080df88874f288b79f6e8e3dc2ad6",
       "version_major": 2,
       "version_minor": 0
      },
      "text/plain": [
       "interactive(children=(FloatSlider(value=0.1, description='Flip Ratio', max=1.0), Dropdown(description='Classif…"
      ]
     },
     "metadata": {},
     "output_type": "display_data"
    }
   ],
   "source": [
    "def plot_accuracy_comparison(\n",
    "    flip_ratio,\n",
    "    classifier1,\n",
    "    classifier2,\n",
    "    prepare_save_plot: bool = False,\n",
    "    **datasets_selected,\n",
    "):\n",
    "\n",
    "    subset = subset_results_label_flipping[\n",
    "        subset_results_label_flipping[\"flip_ratio\"] == flip_ratio\n",
    "    ]\n",
    "    if subset.empty:\n",
    "        print(f\"No results found for flip ratio {flip_ratio}.\")\n",
    "        return\n",
    "\n",
    "    subset = subset[subset[\"classifier\"].isin([classifier1, classifier2])]\n",
    "    if subset.empty or not all(\n",
    "        c in subset[\"classifier\"].values for c in [classifier1, classifier2]\n",
    "    ):\n",
    "        print(\n",
    "            f\"Not enough results for classifiers {classifier1} and {classifier2} at flip ratio {flip_ratio}.\"\n",
    "        )\n",
    "        return\n",
    "\n",
    "    fig, ax = plt.subplots(figsize=(6, 6))\n",
    "\n",
    "    for dataset in subset[\"dataset\"].unique():\n",
    "        if not datasets_selected.get(dataset, True):\n",
    "            continue\n",
    "        ds = subset[subset[\"dataset\"] == dataset]\n",
    "        if ds.empty:\n",
    "            continue\n",
    "\n",
    "        grouped = ds.groupby([\"random_seed\", \"classifier\"])[\"accuracy\"].mean().unstack()\n",
    "        if classifier1 not in grouped or classifier2 not in grouped:\n",
    "            continue\n",
    "        x = grouped[classifier1]\n",
    "        y = grouped[classifier2]\n",
    "\n",
    "        if len(grouped) > 1:\n",
    "            plt.errorbar(\n",
    "                x.mean(),\n",
    "                y.mean(),\n",
    "                xerr=x.std(),\n",
    "                yerr=y.std(),\n",
    "                fmt=\"o\",\n",
    "                label=dataset,\n",
    "                capsize=5,\n",
    "                markersize=8,\n",
    "            )\n",
    "        else:\n",
    "            ax.scatter(x, y, label=dataset, s=50)\n",
    "\n",
    "    ax.set_xlabel(classifier1 + \" Accuracy\")\n",
    "    ax.set_ylabel(classifier2 + \" Accuracy\")\n",
    "    ax.set_title(f\"Accuracy Comparison at Flip Ratio {flip_ratio}\")\n",
    "    ax.axline((0, 0), slope=1, color=\"grey\", linestyle=\"--\")\n",
    "    ax.set_xlim(0, 1)\n",
    "    ax.set_ylim(0, 1)\n",
    "    ax.legend()\n",
    "    plt.show()\n",
    "\n",
    "    if prepare_save_plot:\n",
    "        return fig\n",
    "\n",
    "\n",
    "_ = interact(\n",
    "    plot_accuracy_comparison,\n",
    "    flip_ratio=FloatSlider(\n",
    "        value=0.1,\n",
    "        min=float(subset_results_label_flipping[\"flip_ratio\"].min()),\n",
    "        max=float(subset_results_label_flipping[\"flip_ratio\"].max()),\n",
    "        step=0.1,\n",
    "        description=\"Flip Ratio\",\n",
    "    ),\n",
    "    classifier1=Dropdown(\n",
    "        options=subset_results_label_flipping[\"classifier\"].unique(),\n",
    "        description=\"Classifier 1\",\n",
    "    ),\n",
    "    classifier2=Dropdown(\n",
    "        options=subset_results_label_flipping[\"classifier\"].unique(),\n",
    "        description=\"Classifier 2\",\n",
    "    ),\n",
    "    prepare_save_plot=fixed(False),\n",
    "    **dataset_checkboxes,\n",
    ")"
   ]
  },
  {
   "cell_type": "code",
   "execution_count": 10,
   "id": "6e8d54d1",
   "metadata": {},
   "outputs": [
    {
     "data": {
      "image/png": "[encoded data removed]",
      "text/plain": [
       "<Figure size 600x600 with 1 Axes>"
      ]
     },
     "metadata": {},
     "output_type": "display_data"
    }
   ],
   "source": [
    "flip_ratio = 1.0\n",
    "\n",
    "fig = plot_accuracy_comparison(\n",
    "    classifier1=subset_results_label_flipping[\"classifier\"].unique()[0],\n",
    "    classifier2=subset_results_label_flipping[\"classifier\"].unique()[1],\n",
    "    flip_ratio=flip_ratio,\n",
    "    prepare_save_plot=True,\n",
    "    **{name: True for name in dataset_names},\n",
    ")\n",
    "\n",
    "fig.savefig(\n",
    "    os.path.join(os.getcwd(), \"figures\", f\"plot_accuracy_comparison_{flip_ratio}.pdf\"),\n",
    "    dpi=300,\n",
    ")"
   ]
  },
  {
   "cell_type": "code",
   "execution_count": null,
   "id": "d281d0ba",
   "metadata": {},
   "outputs": [
    {
     "data": {
      "application/vnd.jupyter.widget-view+json": {
       "model_id": "d68525e05b2d4b35bf136b6ae6d8b65d",
       "version_major": 2,
       "version_minor": 0
      },
      "text/plain": [
       "interactive(children=(Dropdown(description='Classifier 1', options=('catch22', 'mini-rocket'), value='catch22'…"
      ]
     },
     "metadata": {},
     "output_type": "display_data"
    }
   ],
   "source": [
    "def plot_accuracy_trajectory(\n",
    "    classifier1,\n",
    "    classifier2,\n",
    "    prepare_save_plot: bool = False,\n",
    "    **datasets_selected,\n",
    "):\n",
    "    fig, ax = plt.subplots(figsize=(6, 6))\n",
    "    flip_ratios = sorted(subset_results_label_flipping[\"flip_ratio\"].unique())\n",
    "\n",
    "    for dataset in dataset_names:\n",
    "        if not datasets_selected.get(dataset, True):\n",
    "            continue\n",
    "        ds = subset_results_label_flipping[\n",
    "            (subset_results_label_flipping[\"dataset\"] == dataset)\n",
    "            & (\n",
    "                subset_results_label_flipping[\"classifier\"].isin(\n",
    "                    [classifier1, classifier2]\n",
    "                )\n",
    "            )\n",
    "        ]\n",
    "        if ds.empty:\n",
    "            continue\n",
    "\n",
    "        x_means, y_means, x_stds, y_stds = [], [], [], []\n",
    "        valid_flip_ratios = []\n",
    "\n",
    "        for fr in flip_ratios:\n",
    "            fr_ds = ds[ds[\"flip_ratio\"] == fr]\n",
    "            grouped = (\n",
    "                fr_ds.groupby([\"random_seed\", \"classifier\"])[\"accuracy\"]\n",
    "                .mean()\n",
    "                .unstack()\n",
    "            )\n",
    "            if (\n",
    "                grouped is None\n",
    "                or classifier1 not in grouped\n",
    "                or classifier2 not in grouped\n",
    "            ):\n",
    "                continue\n",
    "            x = grouped[classifier1]\n",
    "            y = grouped[classifier2]\n",
    "            if len(x) == 0 or len(y) == 0:\n",
    "                continue\n",
    "            x_means.append(x.mean())\n",
    "            y_means.append(y.mean())\n",
    "            x_stds.append(x.std())\n",
    "            y_stds.append(y.std())\n",
    "            valid_flip_ratios.append(fr)\n",
    "\n",
    "        if valid_flip_ratios:\n",
    "            plt.errorbar(\n",
    "                x_means,\n",
    "                y_means,\n",
    "                xerr=x_stds,\n",
    "                yerr=y_stds,\n",
    "                fmt=\"-o\",\n",
    "                label=dataset,\n",
    "                capsize=3,\n",
    "                markersize=5,\n",
    "            )\n",
    "\n",
    "    ax.set_xlabel(classifier1 + \" Accuracy\")\n",
    "    ax.set_ylabel(classifier2 + \" Accuracy\")\n",
    "    ax.set_title(\n",
    "        f\"Accuracy Trajectory Across Flip Ratios (from {min(flip_ratios)} to {max(flip_ratios)})\"\n",
    "    )\n",
    "    ax.axline((0, 0), slope=1, color=\"grey\", linestyle=\"--\")\n",
    "    ax.set_xlim(0, 1)\n",
    "    ax.set_ylim(0, 1)\n",
    "    ax.legend()\n",
    "    plt.show()\n",
    "\n",
    "    if prepare_save_plot:\n",
    "        return fig\n",
    "\n",
    "\n",
    "_ = interact(\n",
    "    plot_accuracy_trajectory,\n",
    "    classifier1=Dropdown(\n",
    "        options=subset_results_label_flipping[\"classifier\"].unique(),\n",
    "        description=\"Classifier 1\",\n",
    "    ),\n",
    "    classifier2=Dropdown(\n",
    "        options=subset_results_label_flipping[\"classifier\"].unique(),\n",
    "        description=\"Classifier 2\",\n",
    "    ),\n",
    "    prepare_save_plot=fixed(False),\n",
    "    **dataset_checkboxes,\n",
    ")"
   ]
  },
  {
   "cell_type": "code",
   "execution_count": null,
   "id": "e0abdafe",
   "metadata": {},
   "outputs": [
    {
     "data": {
      "image/png": "[encoded data removed]",
      "text/plain": [
       "<Figure size 600x600 with 1 Axes>"
      ]
     },
     "metadata": {},
     "output_type": "display_data"
    }
   ],
   "source": [
    "classifier1 = subset_results_label_flipping[\"classifier\"].unique()[0]\n",
    "classifier2 = subset_results_label_flipping[\"classifier\"].unique()[1]\n",
    "data_set = subset_results_label_flipping[\"dataset\"].unique()[0]\n",
    "\n",
    "fig = plot_accuracy_trajectory(\n",
    "    classifier1=classifier1,\n",
    "    classifier2=classifier2,\n",
    "    prepare_save_plot=True,\n",
    "    **{name: False if name != data_set else True for name in dataset_names},\n",
    ")\n",
    "\n",
    "fig.savefig(\n",
    "    os.path.join(\n",
    "        os.getcwd(),\n",
    "        \"figures\",\n",
    "        f\"plot_accuracy_trajectory_{classifier1}_{classifier2}_{data_set}.pdf\",\n",
    "    ),\n",
    "    dpi=300,\n",
    ")"
   ]
  },
  {
   "cell_type": "code",
   "execution_count": null,
   "id": "578e57df",
   "metadata": {},
   "outputs": [],
   "source": []
  }
 ],
 "metadata": {
  "kernelspec": {
   "display_name": ".venv",
   "language": "python",
   "name": "python3"
  },
  "language_info": {
   "codemirror_mode": {
    "name": "ipython",
    "version": 3
   },
   "file_extension": ".py",
   "mimetype": "text/x-python",
   "name": "python",
   "nbconvert_exporter": "python",
   "pygments_lexer": "ipython3",
   "version": "3.11.6"
  }
 },
 "nbformat": 4,
 "nbformat_minor": 5
}
